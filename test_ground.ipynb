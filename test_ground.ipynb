{
 "cells": [
  {
   "cell_type": "markdown",
   "id": "76149ac6",
   "metadata": {},
   "source": [
    "# File for testing stuff"
   ]
  },
  {
   "cell_type": "markdown",
   "id": "f7ee8480",
   "metadata": {},
   "source": [
    "# Precompute the embeddings"
   ]
  },
  {
   "cell_type": "code",
   "execution_count": null,
   "id": "937bafa9",
   "metadata": {},
   "outputs": [],
   "source": [
    "# Note: This model is used for precomputing the Token embeddings. This model includes contextual embeddings.\n",
    "# We use DistilBERT for this purpose.\n",
    "\n",
    "from transformers import DistilBertTokenizer, DistilBertModel\n",
    "import torch\n",
    "\n",
    "tokenizer = DistilBertTokenizer.from_pretrained('distilbert-base-uncased')\n",
    "model = DistilBertModel.from_pretrained('distilbert-base-uncased')\n",
    "\n",
    "\n",
    "# Later use one sentence from the onto notes dataset\n",
    "sentence = \"John lives in Paris.\"\n",
    "\n",
    "inputs = tokenizer(sentence, return_tensors='pt', truncation=True, padding=True)\n",
    "\n",
    "# Get the token embeddings from the last hidden state of the model\n",
    "with torch.no_grad():\n",
    "    outputs = model(**inputs)\n",
    "    token_embeddings = outputs.last_hidden_state  # Shape: (batch_size, seq_len, embedding_dim)\n",
    "    \n",
    "# Check shape\n",
    "print(token_embeddings.shape)\n",
    "print(type(token_embeddings))\n",
    "\n"
   ]
  },
  {
   "cell_type": "markdown",
   "id": "f78c78ad",
   "metadata": {},
   "source": [
    "# Confidence Model"
   ]
  },
  {
   "cell_type": "code",
   "execution_count": null,
   "id": "fd50a7b8",
   "metadata": {},
   "outputs": [],
   "source": [
    "# Our custom loss function\n",
    "\n",
    "def custom_loss(p, ner_losses, lambda_weight):\n",
    "    \"\"\"\n",
    "    p: Tensor of shape (seq_len,) - output of sigmoid (probability of invoking NER)\n",
    "    ner_losses: Tensor of shape (seq_len,) - NER losses per token\n",
    "    \"\"\"\n",
    "    ner_term = (p * ner_losses).sum()  # Weighted NER loss for invoked tokens\n",
    "    cost_term = lambda_weight * p.sum()  # Penalty for invoking NER (more invocations = higher cost)\n",
    "    return ner_term + cost_term"
   ]
  },
  {
   "cell_type": "code",
   "execution_count": null,
   "id": "8aa4c71a",
   "metadata": {},
   "outputs": [],
   "source": [
    "from model.run_or_wait_classifier import ConfidenceScoreModel\n",
    "confidence_model = ConfidenceScoreModel()"
   ]
  },
  {
   "cell_type": "code",
   "execution_count": null,
   "id": "e1f3f643",
   "metadata": {},
   "outputs": [],
   "source": [
    "optimizer = torch.optim.Adam(confidence_model.parameters(), lr=1e-4)\n",
    "\n",
    "for batch in dataloader:\n",
    "    sentence, gold_labels = batch  # batch of one sequence (or padded batch)\n",
    "    \n",
    "    # Token embeddings from DistilBERT\n",
    "    inputs = tokenizer(sentence, return_tensors='pt', truncation=True, padding=True)\n",
    "    with torch.no_grad():\n",
    "        outputs = model(**inputs)\n",
    "        token_embeddings = outputs.last_hidden_state  # Shape: (batch_size, seq_len, embedding_dim)\n",
    "    \n",
    "    # Get the confidence scores for each token\n",
    "    p = confidence_model(token_embeddings.squeeze(0))  # Shape: (seq_len,)\n",
    "\n",
    "    # Compute NER loss (assume we have precomputed it for each token)\n",
    "    ner_losses = custom_loss(gold_labels)  # Use your NER loss function here\n",
    "    \n",
    "    # Compute the custom loss (NER loss + cost of invoking NER)\n",
    "    loss = custom_loss(p, ner_losses, lambda_weight=0.1)\n",
    "\n",
    "    # Backprop and update\n",
    "    optimizer.zero_grad()\n",
    "    loss.backward()\n",
    "    optimizer.step()\n"
   ]
  }
 ],
 "metadata": {
  "kernelspec": {
   "display_name": "base",
   "language": "python",
   "name": "python3"
  },
  "language_info": {
   "codemirror_mode": {
    "name": "ipython",
    "version": 3
   },
   "file_extension": ".py",
   "mimetype": "text/x-python",
   "name": "python",
   "nbconvert_exporter": "python",
   "pygments_lexer": "ipython3",
   "version": "3.11.5"
  }
 },
 "nbformat": 4,
 "nbformat_minor": 5
}
