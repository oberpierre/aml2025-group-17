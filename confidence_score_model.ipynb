{
 "cells": [
  {
   "cell_type": "code",
   "execution_count": 1,
   "id": "f9fab8ab",
   "metadata": {},
   "outputs": [],
   "source": [
    "import torch\n",
    "import numpy as np\n",
    "import torch.nn as nn\n",
    "import torch.optim as optim\n",
    "from torch.utils.data import DataLoader, TensorDataset, random_split\n",
    "from tqdm import tqdm"
   ]
  },
  {
   "cell_type": "code",
   "execution_count": 2,
   "id": "5afb498d",
   "metadata": {},
   "outputs": [],
   "source": [
    "data = np.load('data/ontonotes_embeddings_full.npz')"
   ]
  },
  {
   "cell_type": "code",
   "execution_count": 3,
   "id": "30fc9704",
   "metadata": {},
   "outputs": [
    {
     "name": "stdout",
     "output_type": "stream",
     "text": [
      "Data keys: KeysView(NpzFile 'data/ontonotes_embeddings_full.npz' with keys: X, Y)\n"
     ]
    }
   ],
   "source": [
    "print(f\"Data keys: {data.keys()}\")"
   ]
  },
  {
   "cell_type": "code",
   "execution_count": 4,
   "id": "ad1ceb8a",
   "metadata": {},
   "outputs": [
    {
     "name": "stdout",
     "output_type": "stream",
     "text": [
      "X shape: (2200865, 768)\n",
      "y shape: (2200865,)\n"
     ]
    }
   ],
   "source": [
    "X = data['X']\n",
    "y = data['Y']\n",
    "\n",
    "print(f\"X shape: {X.shape}\")\n",
    "print(f\"y shape: {y.shape}\")\n"
   ]
  },
  {
   "cell_type": "code",
   "execution_count": 5,
   "id": "89691fbe",
   "metadata": {},
   "outputs": [
    {
     "name": "stdout",
     "output_type": "stream",
     "text": [
      "Positives: 125904, Negatives: 2074961\n"
     ]
    }
   ],
   "source": [
    "num_positives = np.sum(y == 1)\n",
    "num_negatives = np.sum(y == 0)\n",
    "print(f\"Positives: {num_positives}, Negatives: {num_negatives}\")\n"
   ]
  },
  {
   "cell_type": "code",
   "execution_count": 6,
   "id": "d0287e0d",
   "metadata": {},
   "outputs": [],
   "source": [
    "# this part fries my computer, so I limit the dataset to 200k samples, but still does\n",
    "\n",
    "# Convert to PyTorch tensors\n",
    "X_tensor = torch.tensor(X, dtype=torch.float32)\n",
    "y_tensor = torch.tensor(y, dtype=torch.float32)\n",
    "#X_tensor = X_tensor[:200000]\n",
    "#y_tensor = y_tensor[:200000]\n",
    "\n",
    "# Create Dataset\n",
    "dataset = TensorDataset(X_tensor, y_tensor)\n",
    "\n",
    "# Split into training and validation sets, later on we use the real validation set, but for now...\n",
    "train_size = int(0.8 * len(dataset))\n",
    "val_size = len(dataset) - train_size\n",
    "train_dataset, val_dataset = random_split(dataset, [train_size, val_size])\n",
    "\n",
    "# Create DataLoaders\n",
    "train_loader = DataLoader(train_dataset, batch_size=512, shuffle=True)\n",
    "val_loader = DataLoader(val_dataset, batch_size=512)\n"
   ]
  },
  {
   "cell_type": "code",
   "execution_count": 8,
   "id": "3352da12",
   "metadata": {},
   "outputs": [
    {
     "name": "stdout",
     "output_type": "stream",
     "text": [
      "2200865\n",
      "2200865\n"
     ]
    }
   ],
   "source": [
    "print(len(X_tensor))\n",
    "print(len(y_tensor))"
   ]
  },
  {
   "cell_type": "code",
   "execution_count": null,
   "id": "e5a1d4db",
   "metadata": {},
   "outputs": [],
   "source": [
    "class confidence_model(nn.Module):\n",
    "    def __init__(self):\n",
    "        super(confidence_model, self).__init__()\n",
    "        self.model = nn.Sequential(\n",
    "            nn.Linear(768, 256),\n",
    "            nn.ReLU(),\n",
    "            nn.Dropout(0.2),\n",
    "            nn.Linear(256, 1),\n",
    "            # nn.Sigmoid()\n",
    "        )\n",
    "\n",
    "    def forward(self, x):\n",
    "        return self.model(x)\n"
   ]
  },
  {
   "cell_type": "code",
   "execution_count": null,
   "id": "9d62c983",
   "metadata": {},
   "outputs": [
    {
     "name": "stdout",
     "output_type": "stream",
     "text": [
      "Epoch 1, Training Loss: 0.7141\n",
      "Epoch 2, Training Loss: 0.6102\n",
      "Epoch 3, Training Loss: 0.5770\n",
      "Epoch 4, Training Loss: 0.5560\n",
      "Epoch 5, Training Loss: 0.5508\n",
      "Epoch 6, Training Loss: 0.5376\n",
      "Epoch 7, Training Loss: 0.5303\n",
      "Epoch 8, Training Loss: 0.5271\n",
      "Epoch 9, Training Loss: 0.5230\n",
      "Epoch 10, Training Loss: 0.5230\n",
      "Epoch 11, Training Loss: 0.5223\n",
      "Epoch 12, Training Loss: 0.5169\n",
      "Epoch 13, Training Loss: 0.5111\n",
      "Epoch 14, Training Loss: 0.5116\n",
      "Epoch 15, Training Loss: 0.5044\n",
      "Epoch 16, Training Loss: 0.5010\n",
      "Epoch 17, Training Loss: 0.5009\n",
      "Epoch 18, Training Loss: 0.4960\n",
      "Epoch 19, Training Loss: 0.4946\n",
      "Epoch 20, Training Loss: 0.4902\n",
      "Epoch 21, Training Loss: 0.4871\n",
      "Epoch 22, Training Loss: 0.4858\n",
      "Epoch 23, Training Loss: 0.4876\n",
      "Epoch 24, Training Loss: 0.4815\n",
      "Epoch 25, Training Loss: 0.4839\n",
      "Epoch 26, Training Loss: 0.4816\n",
      "Epoch 27, Training Loss: 0.4840\n",
      "Epoch 28, Training Loss: 0.4807\n",
      "Epoch 29, Training Loss: 0.4814\n",
      "Epoch 30, Training Loss: 0.4777\n",
      "Epoch 31, Training Loss: 0.4757\n",
      "Epoch 32, Training Loss: 0.4736\n",
      "Epoch 33, Training Loss: 0.4740\n",
      "Epoch 34, Training Loss: 0.4738\n",
      "Epoch 35, Training Loss: 0.4718\n",
      "Epoch 36, Training Loss: 0.4690\n",
      "Epoch 37, Training Loss: 0.4713\n",
      "Epoch 38, Training Loss: 0.4680\n",
      "Epoch 39, Training Loss: 0.4687\n",
      "Epoch 40, Training Loss: 0.4662\n",
      "Epoch 41, Training Loss: 0.4663\n",
      "Epoch 42, Training Loss: 0.4662\n",
      "Epoch 43, Training Loss: 0.4648\n",
      "Epoch 44, Training Loss: 0.4630\n",
      "Epoch 45, Training Loss: 0.4625\n",
      "Epoch 46, Training Loss: 0.4608\n",
      "Epoch 47, Training Loss: 0.4611\n",
      "Epoch 48, Training Loss: 0.4609\n",
      "Epoch 49, Training Loss: 0.4602\n",
      "Epoch 50, Training Loss: 0.4582\n"
     ]
    }
   ],
   "source": [
    "model = confidence_model()\n",
    "optimizer = optim.Adam(model.parameters(), lr=0.001) \n",
    "\n",
    "device = torch.device(\"cuda\" if torch.cuda.is_available() else \"cpu\")\n",
    "model.to(device)\n",
    "# because this dataset is unbalanced, we use a weighted loss function\n",
    "pos_weight = torch.tensor([num_negatives / num_positives], dtype=torch.float32).to(device)\n",
    "criterion = nn.BCEWithLogitsLoss(pos_weight=pos_weight)\n",
    "\n",
    "epochs = 50\n",
    "for epoch in range(epochs):  \n",
    "    model.train()\n",
    "    total_loss = 0\n",
    "    for X_batch, y_batch in train_loader:\n",
    "        X_batch, y_batch = X_batch.to(device), y_batch.to(device).unsqueeze(1)\n",
    "\n",
    "        optimizer.zero_grad()\n",
    "        output = model(X_batch)\n",
    "        loss = criterion(output, y_batch)\n",
    "        loss.backward()\n",
    "        optimizer.step()\n",
    "        total_loss += loss.item()\n",
    "\n",
    "    print(f\"Epoch {epoch+1}, Training Loss: {total_loss/len(train_loader):.4f}\")\n"
   ]
  },
  {
   "cell_type": "code",
   "execution_count": null,
   "id": "0feff348",
   "metadata": {},
   "outputs": [],
   "source": [
    "# Saving the loss, for deciding on the epochs later on ...\n",
    "\"\"\"\"\"\n",
    "Epoch 1, Training Loss: 0.7141\n",
    "Epoch 2, Training Loss: 0.6102\n",
    "Epoch 3, Training Loss: 0.5770\n",
    "Epoch 4, Training Loss: 0.5560\n",
    "Epoch 5, Training Loss: 0.5508\n",
    "Epoch 6, Training Loss: 0.5376\n",
    "Epoch 7, Training Loss: 0.5303\n",
    "Epoch 8, Training Loss: 0.5271\n",
    "Epoch 9, Training Loss: 0.5230\n",
    "Epoch 10, Training Loss: 0.5230\n",
    "Epoch 11, Training Loss: 0.5223\n",
    "Epoch 12, Training Loss: 0.5169\n",
    "Epoch 13, Training Loss: 0.5111\n",
    "Epoch 14, Training Loss: 0.5116\n",
    "Epoch 15, Training Loss: 0.5044\n",
    "Epoch 16, Training Loss: 0.5010\n",
    "Epoch 17, Training Loss: 0.5009\n",
    "Epoch 18, Training Loss: 0.4960\n",
    "Epoch 19, Training Loss: 0.4946\n",
    "Epoch 20, Training Loss: 0.4902\n",
    "Epoch 21, Training Loss: 0.4871\n",
    "Epoch 22, Training Loss: 0.4858\n",
    "Epoch 23, Training Loss: 0.4876\n",
    "Epoch 24, Training Loss: 0.4815\n",
    "Epoch 25, Training Loss: 0.4839\n",
    "Epoch 26, Training Loss: 0.4816\n",
    "Epoch 27, Training Loss: 0.4840\n",
    "Epoch 28, Training Loss: 0.4807\n",
    "Epoch 29, Training Loss: 0.4814\n",
    "Epoch 30, Training Loss: 0.4777\n",
    "Epoch 31, Training Loss: 0.4757\n",
    "Epoch 32, Training Loss: 0.4736\n",
    "Epoch 33, Training Loss: 0.4740\n",
    "Epoch 34, Training Loss: 0.4738\n",
    "Epoch 35, Training Loss: 0.4718\n",
    "Epoch 36, Training Loss: 0.4690\n",
    "Epoch 37, Training Loss: 0.4713\n",
    "Epoch 38, Training Loss: 0.4680\n",
    "Epoch 39, Training Loss: 0.4687\n",
    "Epoch 40, Training Loss: 0.4662\n",
    "Epoch 41, Training Loss: 0.4663\n",
    "Epoch 42, Training Loss: 0.4662\n",
    "Epoch 43, Training Loss: 0.4648\n",
    "Epoch 44, Training Loss: 0.4630\n",
    "Epoch 45, Training Loss: 0.4625\n",
    "Epoch 46, Training Loss: 0.4608\n",
    "Epoch 47, Training Loss: 0.4611\n",
    "Epoch 48, Training Loss: 0.4609\n",
    "Epoch 49, Training Loss: 0.4602\n",
    "Epoch 50, Training Loss: 0.4582\n",
    "\"\"\"\"\""
   ]
  },
  {
   "cell_type": "code",
   "execution_count": null,
   "id": "d1afe487",
   "metadata": {},
   "outputs": [
    {
     "name": "stdout",
     "output_type": "stream",
     "text": [
      "Validation Accuracy: 0.9483\n",
      "Precision: 0.5341, Recall: 0.7758, F1-score: 0.6327\n"
     ]
    }
   ],
   "source": [
    "from sklearn.metrics import precision_score, recall_score, f1_score\n",
    "\n",
    "model.eval()\n",
    "correct = 0\n",
    "total = 0\n",
    "\n",
    "all_preds = []\n",
    "all_labels = []\n",
    "\n",
    "with torch.no_grad():\n",
    "    for X_batch, y_batch in val_loader:\n",
    "        X_batch = X_batch.to(device)\n",
    "        y_batch = y_batch.to(device).unsqueeze(1)\n",
    "\n",
    "        logits = model(X_batch)\n",
    "        probs = torch.sigmoid(logits)  \n",
    "        predicted = (probs > 0.8).float()\n",
    "\n",
    "        correct += (predicted == y_batch).sum().item()\n",
    "        total += y_batch.size(0)\n",
    "\n",
    "        all_preds.extend(predicted.cpu().numpy())\n",
    "        all_labels.extend(y_batch.cpu().numpy())\n",
    "\n",
    "accuracy = correct / total\n",
    "precision = precision_score(all_labels, all_preds)\n",
    "recall = recall_score(all_labels, all_preds)\n",
    "f1 = f1_score(all_labels, all_preds)\n",
    "\n",
    "print(f\"Validation Accuracy: {accuracy:.4f}\")\n",
    "print(f\"Precision: {precision:.4f}, Recall: {recall:.4f}, F1-score: {f1:.4f}\")\n"
   ]
  },
  {
   "cell_type": "markdown",
   "id": "6f383e53",
   "metadata": {},
   "source": [
    "# Inference"
   ]
  },
  {
   "cell_type": "code",
   "execution_count": 19,
   "id": "b78837ed",
   "metadata": {},
   "outputs": [],
   "source": [
    "from transformers import AutoTokenizer, AutoModel"
   ]
  },
  {
   "cell_type": "code",
   "execution_count": 20,
   "id": "be69196c",
   "metadata": {},
   "outputs": [],
   "source": [
    "tokenizer = AutoTokenizer.from_pretrained(\"dslim/bert-base-NER\")\n",
    "bert_model = AutoModel.from_pretrained(\"dslim/bert-base-NER\")"
   ]
  },
  {
   "cell_type": "code",
   "execution_count": null,
   "id": "a8448b8b",
   "metadata": {},
   "outputs": [],
   "source": [
    "import torch\n",
    "import torch.nn.functional as F \n",
    "\n",
    "def infer_entity_transitions(sentence, tokenizer, bert_model, classifier_model, threshold=0.8):\n",
    "    \"\"\"\n",
    "    Incrementally feeds partial sentences into BERT and classifies via trained classifier.\n",
    "    Matches precompute behavior exactly. Only prints results step by step.\n",
    "    Applies sigmoid to logits before thresholding.\n",
    "    \"\"\"\n",
    "    bert_model.eval()\n",
    "    classifier_model.eval()\n",
    "\n",
    "    words = sentence.strip().split()\n",
    "\n",
    "    print(f\"\\n Inference for: \\\"{sentence}\\\"\\n\")\n",
    "\n",
    "    for i in range(1, len(words) + 1):\n",
    "        partial_sentence = \" \".join(words[:i])\n",
    "        inputs = tokenizer(partial_sentence, return_tensors=\"pt\")\n",
    "\n",
    "        with torch.no_grad():\n",
    "            outputs = bert_model(**inputs)\n",
    "            cls_embedding = outputs.last_hidden_state[:, 0, :]  \n",
    "\n",
    "            logits = classifier_model(cls_embedding)  \n",
    "            prob = torch.sigmoid(logits).item()       \n",
    "            label = int(prob > threshold)\n",
    "\n",
    "        print(f\"Step {i:2}: {partial_sentence:60} → score: {prob:.3f}, label: {label}\")\n"
   ]
  },
  {
   "cell_type": "code",
   "execution_count": 25,
   "id": "f62092c5",
   "metadata": {},
   "outputs": [
    {
     "name": "stdout",
     "output_type": "stream",
     "text": [
      "\n",
      " Inference for: \"Apple, Microsoft and Google are tech giants.\"\n",
      "\n",
      "Step  1: Apple,                                                       → score: 0.000, label: 0\n",
      "Step  2: Apple, Microsoft                                             → score: 0.953, label: 1\n",
      "Step  3: Apple, Microsoft and                                         → score: 0.000, label: 0\n",
      "Step  4: Apple, Microsoft and Google                                  → score: 0.962, label: 1\n",
      "Step  5: Apple, Microsoft and Google are                              → score: 0.000, label: 0\n",
      "Step  6: Apple, Microsoft and Google are tech                         → score: 0.147, label: 0\n",
      "Step  7: Apple, Microsoft and Google are tech giants.                 → score: 0.003, label: 0\n"
     ]
    }
   ],
   "source": [
    "sentence = \"Apple, Microsoft and Google are tech giants.\"\n",
    "# sentence = \"On the afternoon of August 22 , Peng Dehuai was listening to the combat operation director report on battle developments at Eighth Route Army operational headquarters .\"\n",
    "infer_entity_transitions(sentence, tokenizer, bert_model, model)"
   ]
  },
  {
   "cell_type": "code",
   "execution_count": 29,
   "id": "e3bd8ae8",
   "metadata": {},
   "outputs": [
    {
     "name": "stdout",
     "output_type": "stream",
     "text": [
      "=== Inference Evaluation Summary ===\n",
      "Total Timesteps: 2200865\n",
      "BERT Calls (Baseline): 2200865\n",
      "BERT Calls (Classifier-Gated): 182468\n",
      "Reduction in BERT Calls: 91.71%\n",
      "Entity Completion Recall (Y=1 captured): 78.10%\n"
     ]
    }
   ],
   "source": [
    "model.eval()\n",
    "with torch.no_grad():\n",
    "    logits = model(X_tensor)\n",
    "    probs = torch.sigmoid(logits).squeeze()\n",
    "\n",
    "threshold = 0.8\n",
    "Y_pred = (probs >= threshold).int().numpy()\n",
    "total_timesteps = len(y)\n",
    "bert_calls_baseline = total_timesteps\n",
    "bert_calls_classifier = Y_pred.sum()\n",
    "reduction = 1 - (bert_calls_classifier / bert_calls_baseline)\n",
    "\n",
    "true_positives_captured = sum(\n",
    "    1 for yt, yp in zip(y, Y_pred) if yt == 1 and yp == 1\n",
    ")\n",
    "total_entity_completions = sum(yt == 1 for yt in y)\n",
    "\n",
    "entity_recall = true_positives_captured / total_entity_completions if total_entity_completions > 0 else 0\n",
    "\n",
    "\n",
    "print(\"=== Inference Evaluation Summary ===\")\n",
    "print(f\"Total Timesteps: {total_timesteps}\")\n",
    "print(f\"BERT Calls (Baseline): {bert_calls_baseline}\")\n",
    "print(f\"BERT Calls (Classifier-Gated): {bert_calls_classifier}\")\n",
    "print(f\"Reduction in BERT Calls: {reduction:.2%}\")\n",
    "print(f\"Entity Completion Recall (Y=1 captured): {entity_recall:.2%}\")\n"
   ]
  },
  {
   "cell_type": "code",
   "execution_count": null,
   "id": "feb1c018",
   "metadata": {},
   "outputs": [],
   "source": []
  }
 ],
 "metadata": {
  "kernelspec": {
   "display_name": "base",
   "language": "python",
   "name": "python3"
  },
  "language_info": {
   "codemirror_mode": {
    "name": "ipython",
    "version": 3
   },
   "file_extension": ".py",
   "mimetype": "text/x-python",
   "name": "python",
   "nbconvert_exporter": "python",
   "pygments_lexer": "ipython3",
   "version": "3.11.5"
  }
 },
 "nbformat": 4,
 "nbformat_minor": 5
}
