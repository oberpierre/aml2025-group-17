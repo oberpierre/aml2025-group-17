{
 "cells": [
  {
   "cell_type": "code",
   "execution_count": 1,
   "id": "701bcd70",
   "metadata": {},
   "outputs": [
    {
     "name": "stdout",
     "output_type": "stream",
     "text": [
      "Collecting staticvectors\n",
      "  Downloading staticvectors-0.2.0-py3-none-any.whl.metadata (7.6 kB)\n",
      "Requirement already satisfied: huggingface-hub>=0.19.0 in ./.venv/lib/python3.13/site-packages (from staticvectors) (0.33.0)\n",
      "Requirement already satisfied: numpy>=1.18.4 in ./.venv/lib/python3.13/site-packages (from staticvectors) (2.3.0)\n",
      "Requirement already satisfied: safetensors>=0.4.5 in ./.venv/lib/python3.13/site-packages (from staticvectors) (0.5.3)\n",
      "Requirement already satisfied: tqdm>=4.48.0 in ./.venv/lib/python3.13/site-packages (from staticvectors) (4.67.1)\n",
      "Requirement already satisfied: filelock in ./.venv/lib/python3.13/site-packages (from huggingface-hub>=0.19.0->staticvectors) (3.18.0)\n",
      "Requirement already satisfied: fsspec>=2023.5.0 in ./.venv/lib/python3.13/site-packages (from huggingface-hub>=0.19.0->staticvectors) (2025.3.0)\n",
      "Requirement already satisfied: packaging>=20.9 in ./.venv/lib/python3.13/site-packages (from huggingface-hub>=0.19.0->staticvectors) (25.0)\n",
      "Requirement already satisfied: pyyaml>=5.1 in ./.venv/lib/python3.13/site-packages (from huggingface-hub>=0.19.0->staticvectors) (6.0.2)\n",
      "Requirement already satisfied: requests in ./.venv/lib/python3.13/site-packages (from huggingface-hub>=0.19.0->staticvectors) (2.32.4)\n",
      "Requirement already satisfied: typing-extensions>=3.7.4.3 in ./.venv/lib/python3.13/site-packages (from huggingface-hub>=0.19.0->staticvectors) (4.14.0)\n",
      "Requirement already satisfied: hf-xet<2.0.0,>=1.1.2 in ./.venv/lib/python3.13/site-packages (from huggingface-hub>=0.19.0->staticvectors) (1.1.4)\n",
      "Requirement already satisfied: charset_normalizer<4,>=2 in ./.venv/lib/python3.13/site-packages (from requests->huggingface-hub>=0.19.0->staticvectors) (3.4.2)\n",
      "Requirement already satisfied: idna<4,>=2.5 in ./.venv/lib/python3.13/site-packages (from requests->huggingface-hub>=0.19.0->staticvectors) (3.10)\n",
      "Requirement already satisfied: urllib3<3,>=1.21.1 in ./.venv/lib/python3.13/site-packages (from requests->huggingface-hub>=0.19.0->staticvectors) (2.5.0)\n",
      "Requirement already satisfied: certifi>=2017.4.17 in ./.venv/lib/python3.13/site-packages (from requests->huggingface-hub>=0.19.0->staticvectors) (2025.6.15)\n",
      "Downloading staticvectors-0.2.0-py3-none-any.whl (26 kB)\n",
      "Installing collected packages: staticvectors\n",
      "Successfully installed staticvectors-0.2.0\n",
      "Note: you may need to restart the kernel to use updated packages.\n"
     ]
    }
   ],
   "source": [
    "%pip install staticvectors"
   ]
  },
  {
   "cell_type": "code",
   "execution_count": 2,
   "id": "015f001f",
   "metadata": {},
   "outputs": [],
   "source": [
    "import torch\n",
    "import numpy as np\n",
    "import torch.nn as nn\n",
    "import torch.optim as optim\n",
    "from torch.utils.data import DataLoader, TensorDataset, random_split\n",
    "from tqdm import tqdm"
   ]
  },
  {
   "cell_type": "code",
   "execution_count": 3,
   "id": "28673094",
   "metadata": {},
   "outputs": [],
   "source": [
    "data = np.load('data/ner_trigger_dataset_validation.npz')"
   ]
  },
  {
   "cell_type": "code",
   "execution_count": 4,
   "id": "19353d7b",
   "metadata": {},
   "outputs": [
    {
     "name": "stdout",
     "output_type": "stream",
     "text": [
      "Data keys: KeysView(NpzFile 'data/ner_trigger_dataset_validation.npz' with keys: X, y)\n"
     ]
    }
   ],
   "source": [
    "print(f\"Data keys: {data.keys()}\")"
   ]
  },
  {
   "cell_type": "code",
   "execution_count": 5,
   "id": "853e8bcc",
   "metadata": {},
   "outputs": [
    {
     "name": "stdout",
     "output_type": "stream",
     "text": [
      "X shape: (297852, 6)\n",
      "y shape: (297852,)\n",
      "['In' 'the' 'summer' 'of' '2005' ',']\n",
      "1\n"
     ]
    }
   ],
   "source": [
    "X = data['X']\n",
    "y = data['y']\n",
    "\n",
    "print(f\"X shape: {X.shape}\")\n",
    "print(f\"y shape: {y.shape}\")\n",
    "\n",
    "print(X[0])\n",
    "print(y[0])"
   ]
  },
  {
   "cell_type": "code",
   "execution_count": 13,
   "id": "1d49644a",
   "metadata": {},
   "outputs": [],
   "source": [
    "# w2v average pooling\n",
    "# w2v max pooling\n",
    "# bert cls token"
   ]
  },
  {
   "cell_type": "markdown",
   "id": "9132d528",
   "metadata": {},
   "source": [
    "# Embeddings test"
   ]
  },
  {
   "cell_type": "code",
   "execution_count": 6,
   "id": "722949c4",
   "metadata": {},
   "outputs": [
    {
     "name": "stderr",
     "output_type": "stream",
     "text": [
      "/Users/pierre/projects/uzh_repos/aml2025-group-17/.venv/lib/python3.13/site-packages/tqdm/auto.py:21: TqdmWarning: IProgress not found. Please update jupyter and ipywidgets. See https://ipywidgets.readthedocs.io/en/stable/user_install.html\n",
      "  from .autonotebook import tqdm as notebook_tqdm\n"
     ]
    }
   ],
   "source": [
    "from staticvectors import StaticVectors\n",
    "\n",
    "model = StaticVectors(\"neuml/word2vec/model.sqlite\")"
   ]
  },
  {
   "cell_type": "code",
   "execution_count": 7,
   "id": "e34c2750",
   "metadata": {},
   "outputs": [
    {
     "name": "stdout",
     "output_type": "stream",
     "text": [
      "X[0]: ['In' 'the' 'summer' 'of' '2005' ',']\n",
      "Type of X[0]: <class 'numpy.ndarray'>\n",
      "X[0][0]: In\n",
      "Type of X[0][0]: <class 'numpy.str_'>\n"
     ]
    }
   ],
   "source": [
    "print(\"X[0]:\", X[0])\n",
    "print(\"Type of X[0]:\", type(X[0]))\n",
    "print(\"X[0][0]:\", X[0][0])\n",
    "print(\"Type of X[0][0]:\", type(X[0][0]))\n"
   ]
  },
  {
   "cell_type": "code",
   "execution_count": 8,
   "id": "149a5ff3",
   "metadata": {},
   "outputs": [
    {
     "name": "stderr",
     "output_type": "stream",
     "text": [
      "100%|██████████| 297852/297852 [03:04<00:00, 1613.22it/s]\n"
     ]
    }
   ],
   "source": [
    "X_avgpool = []\n",
    "X_maxpool = []\n",
    "\n",
    "for window in tqdm(X):\n",
    "    token_list = window.tolist()\n",
    "\n",
    "    \n",
    "    vectors = [model.embeddings([word])[0] for word in token_list if model.embeddings([word]) is not None]\n",
    "    \n",
    "    if vectors:\n",
    "        avg_vector = np.mean(vectors, axis=0)\n",
    "        max_vector = np.max(vectors, axis=0)\n",
    "    else:\n",
    "        avg_vector = np.zeros(model.dim)\n",
    "        max_vector = np.zeros(model.dim)\n",
    "    \n",
    "    X_avgpool.append(avg_vector)\n",
    "    X_maxpool.append(max_vector)\n",
    "\n",
    "X_avgpool = np.array(X_avgpool)   # shape: (297852, 300)\n",
    "X_maxpool = np.array(X_maxpool)   # shape: (297852, 300)"
   ]
  },
  {
   "cell_type": "code",
   "execution_count": 9,
   "id": "ccbfb1f6",
   "metadata": {},
   "outputs": [
    {
     "name": "stdout",
     "output_type": "stream",
     "text": [
      "(297852, 300)\n",
      "(297852, 300)\n"
     ]
    }
   ],
   "source": [
    "print(X_avgpool.shape)\n",
    "# print(X_avgpool[0])\n",
    "print(X_maxpool.shape)\n",
    "# print(X_maxpool[0])"
   ]
  },
  {
   "cell_type": "code",
   "execution_count": 10,
   "id": "8739d8bb",
   "metadata": {},
   "outputs": [],
   "source": [
    "from transformers import AutoTokenizer, AutoModel\n",
    "tokenizer = AutoTokenizer.from_pretrained(\"dslim/bert-base-NER\")\n",
    "bert_model = AutoModel.from_pretrained(\"dslim/bert-base-NER\")"
   ]
  },
  {
   "cell_type": "code",
   "execution_count": 12,
   "id": "226aa1c2",
   "metadata": {},
   "outputs": [
    {
     "name": "stdout",
     "output_type": "stream",
     "text": [
      "Using device: mps\n"
     ]
    }
   ],
   "source": [
    "device = 'cpu'\n",
    "if torch.cuda.is_available():\n",
    "    device = 'cuda'\n",
    "elif torch.mps.is_available():\n",
    "    device = 'mps'\n",
    "print(f\"Using device: {device}\")"
   ]
  },
  {
   "cell_type": "code",
   "execution_count": 13,
   "id": "4d261272",
   "metadata": {},
   "outputs": [
    {
     "data": {
      "text/plain": [
       "BertModel(\n",
       "  (embeddings): BertEmbeddings(\n",
       "    (word_embeddings): Embedding(28996, 768, padding_idx=0)\n",
       "    (position_embeddings): Embedding(512, 768)\n",
       "    (token_type_embeddings): Embedding(2, 768)\n",
       "    (LayerNorm): LayerNorm((768,), eps=1e-12, elementwise_affine=True)\n",
       "    (dropout): Dropout(p=0.1, inplace=False)\n",
       "  )\n",
       "  (encoder): BertEncoder(\n",
       "    (layer): ModuleList(\n",
       "      (0-11): 12 x BertLayer(\n",
       "        (attention): BertAttention(\n",
       "          (self): BertSdpaSelfAttention(\n",
       "            (query): Linear(in_features=768, out_features=768, bias=True)\n",
       "            (key): Linear(in_features=768, out_features=768, bias=True)\n",
       "            (value): Linear(in_features=768, out_features=768, bias=True)\n",
       "            (dropout): Dropout(p=0.1, inplace=False)\n",
       "          )\n",
       "          (output): BertSelfOutput(\n",
       "            (dense): Linear(in_features=768, out_features=768, bias=True)\n",
       "            (LayerNorm): LayerNorm((768,), eps=1e-12, elementwise_affine=True)\n",
       "            (dropout): Dropout(p=0.1, inplace=False)\n",
       "          )\n",
       "        )\n",
       "        (intermediate): BertIntermediate(\n",
       "          (dense): Linear(in_features=768, out_features=3072, bias=True)\n",
       "          (intermediate_act_fn): GELUActivation()\n",
       "        )\n",
       "        (output): BertOutput(\n",
       "          (dense): Linear(in_features=3072, out_features=768, bias=True)\n",
       "          (LayerNorm): LayerNorm((768,), eps=1e-12, elementwise_affine=True)\n",
       "          (dropout): Dropout(p=0.1, inplace=False)\n",
       "        )\n",
       "      )\n",
       "    )\n",
       "  )\n",
       "  (pooler): BertPooler(\n",
       "    (dense): Linear(in_features=768, out_features=768, bias=True)\n",
       "    (activation): Tanh()\n",
       "  )\n",
       ")"
      ]
     },
     "execution_count": 13,
     "metadata": {},
     "output_type": "execute_result"
    }
   ],
   "source": [
    "bert_model.eval()\n",
    "bert_model.to(device)"
   ]
  },
  {
   "cell_type": "code",
   "execution_count": 18,
   "id": "9f6824f1",
   "metadata": {},
   "outputs": [],
   "source": [
    "@torch.no_grad()\n",
    "def get_cls_embeddings_batch(sentence_tokens_list, batch_size=256):\n",
    "    \"\"\"\n",
    "    Get CLS embeddings for a batch of token sequences.\n",
    "    \n",
    "    Args:\n",
    "        sentence_tokens_list: List of token sequences\n",
    "        batch_size: Number of sequences to process at once\n",
    "    \n",
    "    Returns:\n",
    "        numpy array of CLS embeddings\n",
    "    \"\"\"\n",
    "    all_embeddings = []\n",
    "    \n",
    "    for i in tqdm(range(0, len(sentence_tokens_list), batch_size), desc=\"Processing BERT embeddings\"):\n",
    "        batch = sentence_tokens_list[i:i + batch_size]\n",
    "        texts = [\" \".join(tokens) for tokens in batch]\n",
    "        \n",
    "        inputs = tokenizer(texts, return_tensors=\"pt\", truncation=True, \n",
    "                          max_length=512, padding=True).to(device)\n",
    "        outputs = bert_model(**inputs)\n",
    "        cls_embeddings = outputs.last_hidden_state[:, 0, :].cpu().numpy()\n",
    "        \n",
    "        all_embeddings.append(cls_embeddings)\n",
    "    \n",
    "    return np.vstack(all_embeddings)"
   ]
  },
  {
   "cell_type": "code",
   "execution_count": 19,
   "id": "665903fd",
   "metadata": {},
   "outputs": [
    {
     "name": "stderr",
     "output_type": "stream",
     "text": [
      "Processing BERT embeddings: 100%|██████████| 9308/9308 [02:40<00:00, 58.12it/s]"
     ]
    },
    {
     "name": "stdout",
     "output_type": "stream",
     "text": [
      "BERT Embedding shape: (297852, 768)\n"
     ]
    },
    {
     "name": "stderr",
     "output_type": "stream",
     "text": [
      "\n"
     ]
    }
   ],
   "source": [
    "# Convert X to list of token lists for batched processing\n",
    "token_lists = [window.tolist() for window in X]\n",
    "\n",
    "# Use batched processing\n",
    "bert_embeddings = get_cls_embeddings_batch(token_lists, batch_size=32)\n",
    "print(\"BERT Embedding shape:\", bert_embeddings.shape)\n"
   ]
  },
  {
   "cell_type": "code",
   "execution_count": 20,
   "id": "e0f6e578",
   "metadata": {},
   "outputs": [],
   "source": [
    "class SimpleClassifier(nn.Module):\n",
    "    def __init__(self, input_dim, hidden_dim=128):\n",
    "        super().__init__()\n",
    "        self.net = nn.Sequential(\n",
    "            nn.Linear(input_dim, hidden_dim),\n",
    "            nn.ReLU(),\n",
    "            nn.Linear(hidden_dim, 1) \n",
    "        )\n",
    "\n",
    "    def forward(self, x):\n",
    "        return self.net(x).squeeze(1)  "
   ]
  },
  {
   "cell_type": "code",
   "execution_count": 23,
   "id": "cbcd87d6",
   "metadata": {},
   "outputs": [],
   "source": [
    "from sklearn.metrics import precision_score, recall_score, f1_score\n",
    "\n",
    "def train_and_eval_pytorch(X, y, name, epochs=3, batch_size=512):\n",
    "    print(f\"\\n Training {name}\")\n",
    "    \n",
    "    # Convert to PyTorch tensors\n",
    "    X_tensor = torch.tensor(X, dtype=torch.float32).to(device)\n",
    "    y_tensor = torch.tensor(y, dtype=torch.float32).to(device)\n",
    "\n",
    "    # Create dataset and split\n",
    "    dataset = TensorDataset(X_tensor, y_tensor)\n",
    "    train_size = int(0.8 * len(dataset))\n",
    "    test_size = len(dataset) - train_size\n",
    "    train_ds, test_ds = random_split(dataset, [train_size, test_size])\n",
    "\n",
    "    train_loader = DataLoader(train_ds, batch_size=batch_size, shuffle=True)\n",
    "    test_loader = DataLoader(test_ds, batch_size=batch_size)\n",
    "\n",
    "    # Define model\n",
    "    input_dim = X.shape[1]\n",
    "    model = SimpleClassifier(input_dim).to(device)\n",
    "    criterion = nn.BCEWithLogitsLoss()\n",
    "    optimizer = optim.Adam(model.parameters(), lr=1e-3)\n",
    "\n",
    "    # Training loop\n",
    "    model.train()\n",
    "    for epoch in range(epochs):\n",
    "        total_loss = 0\n",
    "        for xb, yb in train_loader:\n",
    "            optimizer.zero_grad()\n",
    "            preds = model(xb)\n",
    "            loss = criterion(preds, yb)\n",
    "            loss.backward()\n",
    "            optimizer.step()\n",
    "            total_loss += loss.detach().cpu().item()\n",
    "        print(f\"Epoch {epoch+1}: Loss = {total_loss:.4f}\")\n",
    "\n",
    "    # Evaluation\n",
    "    model.eval()\n",
    "    all_preds, all_labels = [], []\n",
    "    with torch.no_grad():\n",
    "        for xb, yb in test_loader:\n",
    "            logits = model(xb)\n",
    "            probs = torch.sigmoid(logits)\n",
    "            preds = (probs > 0.5).int()\n",
    "            all_preds.extend(preds.tolist())\n",
    "            all_labels.extend(yb.int().tolist())\n",
    "\n",
    "    precision = precision_score(all_labels, all_preds)\n",
    "    recall = recall_score(all_labels, all_preds)\n",
    "    f1 = f1_score(all_labels, all_preds)\n",
    "    \n",
    "    print(f\" Precision: {precision:.4f}\")\n",
    "    print(f\" Recall:    {recall:.4f}\")\n",
    "    print(f\" F1-score:  {f1:.4f}\")\n"
   ]
  },
  {
   "cell_type": "code",
   "execution_count": 24,
   "id": "cfdf08f5",
   "metadata": {},
   "outputs": [
    {
     "name": "stdout",
     "output_type": "stream",
     "text": [
      "\n",
      " Training Word2Vec - Avg Pooling\n",
      "Epoch 1: Loss = 200.9151\n",
      "Epoch 1: Loss = 200.9151\n",
      "Epoch 2: Loss = 159.3520\n",
      "Epoch 2: Loss = 159.3520\n",
      "Epoch 3: Loss = 150.9359\n",
      "Epoch 3: Loss = 150.9359\n",
      " Precision: 0.7341\n",
      " Recall:    0.7619\n",
      " F1-score:  0.7477\n",
      "\n",
      " Training Word2Vec - Max Pooling\n",
      " Precision: 0.7341\n",
      " Recall:    0.7619\n",
      " F1-score:  0.7477\n",
      "\n",
      " Training Word2Vec - Max Pooling\n",
      "Epoch 1: Loss = 231.6797\n",
      "Epoch 1: Loss = 231.6797\n",
      "Epoch 2: Loss = 193.5017\n",
      "Epoch 2: Loss = 193.5017\n",
      "Epoch 3: Loss = 188.7371\n",
      "Epoch 3: Loss = 188.7371\n",
      " Precision: 0.6790\n",
      " Recall:    0.5753\n",
      " F1-score:  0.6229\n",
      "\n",
      " Training BERT - CLS Pooling\n",
      " Precision: 0.6790\n",
      " Recall:    0.5753\n",
      " F1-score:  0.6229\n",
      "\n",
      " Training BERT - CLS Pooling\n",
      "Epoch 1: Loss = 182.8686\n",
      "Epoch 1: Loss = 182.8686\n",
      "Epoch 2: Loss = 154.1647\n",
      "Epoch 2: Loss = 154.1647\n",
      "Epoch 3: Loss = 147.3581\n",
      "Epoch 3: Loss = 147.3581\n",
      " Precision: 0.7175\n",
      " Recall:    0.7881\n",
      " F1-score:  0.7511\n",
      " Precision: 0.7175\n",
      " Recall:    0.7881\n",
      " F1-score:  0.7511\n"
     ]
    }
   ],
   "source": [
    "train_and_eval_pytorch(X_avgpool, y, name=\"Word2Vec - Avg Pooling\")\n",
    "train_and_eval_pytorch(X_maxpool, y, name=\"Word2Vec - Max Pooling\")\n",
    "train_and_eval_pytorch(bert_embeddings, y, name=\"BERT - CLS Pooling\")\n"
   ]
  },
  {
   "cell_type": "code",
   "execution_count": null,
   "id": "0f698240",
   "metadata": {},
   "outputs": [],
   "source": []
  }
 ],
 "metadata": {
  "kernelspec": {
   "display_name": ".venv",
   "language": "python",
   "name": "python3"
  },
  "language_info": {
   "codemirror_mode": {
    "name": "ipython",
    "version": 3
   },
   "file_extension": ".py",
   "mimetype": "text/x-python",
   "name": "python",
   "nbconvert_exporter": "python",
   "pygments_lexer": "ipython3",
   "version": "3.13.4"
  }
 },
 "nbformat": 4,
 "nbformat_minor": 5
}
