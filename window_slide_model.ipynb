{
 "cells": [
  {
   "cell_type": "code",
   "execution_count": null,
   "id": "f1d94896",
   "metadata": {},
   "outputs": [],
   "source": [
    "# need to convert the data into embeddings first"
   ]
  },
  {
   "cell_type": "code",
   "execution_count": 1,
   "id": "015f001f",
   "metadata": {},
   "outputs": [],
   "source": [
    "import torch\n",
    "import numpy as np\n",
    "import torch.nn as nn\n",
    "import torch.optim as optim\n",
    "from torch.utils.data import DataLoader, TensorDataset, random_split\n",
    "from tqdm import tqdm"
   ]
  },
  {
   "cell_type": "code",
   "execution_count": 2,
   "id": "28673094",
   "metadata": {},
   "outputs": [],
   "source": [
    "data = np.load('data/ner_trigger_dataset.npz')"
   ]
  },
  {
   "cell_type": "code",
   "execution_count": 3,
   "id": "19353d7b",
   "metadata": {},
   "outputs": [
    {
     "name": "stdout",
     "output_type": "stream",
     "text": [
      "Data keys: KeysView(NpzFile 'data/ner_trigger_dataset.npz' with keys: X, y)\n"
     ]
    }
   ],
   "source": [
    "print(f\"Data keys: {data.keys()}\")"
   ]
  },
  {
   "cell_type": "code",
   "execution_count": 5,
   "id": "853e8bcc",
   "metadata": {},
   "outputs": [
    {
     "name": "stdout",
     "output_type": "stream",
     "text": [
      "X shape: (2148223, 6)\n",
      "y shape: (2148223,)\n",
      "['What' 'kind' 'of' 'memory' '?' 'We']\n",
      "0\n"
     ]
    }
   ],
   "source": [
    "X = data['X']\n",
    "y = data['y']\n",
    "\n",
    "print(f\"X shape: {X.shape}\")\n",
    "print(f\"y shape: {y.shape}\")\n",
    "\n",
    "print(X[0])\n",
    "print(y[0])"
   ]
  },
  {
   "cell_type": "code",
   "execution_count": 6,
   "id": "f9aebd17",
   "metadata": {},
   "outputs": [
    {
     "name": "stdout",
     "output_type": "stream",
     "text": [
      "['What' 'kind' 'of' 'memory' '?' 'We']\n",
      "0\n",
      "['kind' 'of' 'memory' '?' 'We' 'respectfully']\n",
      "0\n",
      "['of' 'memory' '?' 'We' 'respectfully' 'invite']\n",
      "0\n",
      "['memory' '?' 'We' 'respectfully' 'invite' 'you']\n",
      "0\n",
      "['?' 'We' 'respectfully' 'invite' 'you' 'to']\n",
      "0\n",
      "['We' 'respectfully' 'invite' 'you' 'to' 'watch']\n",
      "0\n",
      "['respectfully' 'invite' 'you' 'to' 'watch' 'a']\n",
      "0\n",
      "['invite' 'you' 'to' 'watch' 'a' 'special']\n",
      "0\n",
      "['you' 'to' 'watch' 'a' 'special' 'edition']\n",
      "0\n",
      "['to' 'watch' 'a' 'special' 'edition' 'of']\n",
      "0\n",
      "['watch' 'a' 'special' 'edition' 'of' 'Across']\n",
      "0\n",
      "['a' 'special' 'edition' 'of' 'Across' 'China']\n",
      "1\n",
      "['special' 'edition' 'of' 'Across' 'China' '.']\n",
      "1\n",
      "['edition' 'of' 'Across' 'China' '.' 'WW']\n",
      "0\n",
      "['of' 'Across' 'China' '.' 'WW' 'II']\n",
      "0\n",
      "['Across' 'China' '.' 'WW' 'II' 'Landmarks']\n",
      "0\n",
      "['China' '.' 'WW' 'II' 'Landmarks' 'on']\n",
      "0\n",
      "['.' 'WW' 'II' 'Landmarks' 'on' 'the']\n",
      "0\n",
      "['WW' 'II' 'Landmarks' 'on' 'the' 'Great']\n",
      "0\n",
      "['II' 'Landmarks' 'on' 'the' 'Great' 'Earth']\n",
      "0\n"
     ]
    }
   ],
   "source": [
    "for i in range(20):\n",
    "    print(X[i])\n",
    "    print(y[i])"
   ]
  },
  {
   "cell_type": "code",
   "execution_count": null,
   "id": "1d49644a",
   "metadata": {},
   "outputs": [],
   "source": []
  }
 ],
 "metadata": {
  "kernelspec": {
   "display_name": "base",
   "language": "python",
   "name": "python3"
  },
  "language_info": {
   "codemirror_mode": {
    "name": "ipython",
    "version": 3
   },
   "file_extension": ".py",
   "mimetype": "text/x-python",
   "name": "python",
   "nbconvert_exporter": "python",
   "pygments_lexer": "ipython3",
   "version": "3.11.5"
  }
 },
 "nbformat": 4,
 "nbformat_minor": 5
}
